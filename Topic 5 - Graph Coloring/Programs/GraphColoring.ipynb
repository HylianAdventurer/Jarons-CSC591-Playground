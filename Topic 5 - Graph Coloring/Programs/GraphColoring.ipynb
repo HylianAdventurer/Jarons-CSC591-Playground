{
 "cells": [
  {
   "cell_type": "code",
   "execution_count": 1,
   "metadata": {
    "collapsed": true
   },
   "outputs": [
    {
     "name": "stderr",
     "output_type": "stream",
     "text": [
      "c:\\users\\dsu\\documents\\pycharm virtualenv environments\\jarons-csc591-playground\\lib\\site-packages\\graphs\\mixins\\viz.py:219: SyntaxWarning: \"is\" with a literal. Did you mean \"==\"?\n",
      "  if fig is 'current':\n",
      "c:\\users\\dsu\\documents\\pycharm virtualenv environments\\jarons-csc591-playground\\lib\\site-packages\\graphs\\mixins\\viz.py:221: SyntaxWarning: \"is\" with a literal. Did you mean \"==\"?\n",
      "  elif fig is 'new':\n"
     ]
    }
   ],
   "source": [
    "#Helper Functions!\n",
    "\n",
    "#Original Implementation!\n",
    "def matrix_add1(X,Y):\n",
    "    \"\"\"\n",
    "    This function computes X+Y\n",
    "    \"\"\"\n",
    "    if len(X[0]) != len(Y[0]) and len(X) != len(Y):\n",
    "        return False\n",
    "    result = []\n",
    "    for i in range(len(X)):\n",
    "        result.append([])\n",
    "        for j in range(len(X[0])):\n",
    "            result[i].append(X[i][j] + Y[i][j])\n",
    "    return result\n",
    "\n",
    "#Pythony Implementation of Add\n",
    "def matrix_add(X,Y):\n",
    "    \"\"\"\n",
    "    This function computes X+Y\n",
    "    \"\"\"\n",
    "    if len(X[0]) != len(Y[0]) and len(X) != len(Y):\n",
    "        return False\n",
    "    return [[a+b for a,b in zip(X_row,Y_row)] for X_row,Y_row in zip(X,Y)]\n",
    "\n",
    "#Original Implementation!\n",
    "def matrix_multiply1(X,Y):\n",
    "    \"\"\"\n",
    "    This function computes X*Y\n",
    "    \"\"\"\n",
    "    if len(X[0]) != len(Y):\n",
    "        return False\n",
    "    result = []\n",
    "    for i in range(len(X)):\n",
    "        result.append([])\n",
    "        for j in range(len(Y[0])):\n",
    "            result[i].append(0)\n",
    "            for k in range(len(Y)):\n",
    "                result[i][j] += X[i][k] * Y[k][j]\n",
    "    return result\n",
    "\n",
    "#Pythony Implementation of Multiplication\n",
    "def matrix_multiply(X,Y):\n",
    "    \"\"\"\n",
    "    This function computes X*Y\n",
    "    \"\"\"\n",
    "    if len(X[0]) != len(Y):\n",
    "        return False\n",
    "    return [[sum(a*b for a,b in zip(X_row,Y_col)) for Y_col in zip(*Y)] for X_row in X]\n",
    "\n",
    "#Power Matrix!\n",
    "def pow_matrix(A, r):\n",
    "    \"\"\"\n",
    "    This function computes A^r\n",
    "    \"\"\"\n",
    "    a = A\n",
    "    n = len(A)\n",
    "    b = [[int(x==y) for x in range(n)] for y in range(n)] #b = 1 (n x n identity matrix)\n",
    "    while(r > 0):\n",
    "        if r%2 == 1:\n",
    "            b = matrix_multiply(b,a)\n",
    "        a = matrix_multiply(a,a)\n",
    "        r = r//2\n",
    "    return b\n",
    "\n",
    "#Adjacency Matrix!\n",
    "def adj_matrix(d):\n",
    "    \"\"\"\n",
    "    This function computes the adjacency matrix, A, form a dictonary of a graph\n",
    "    \"\"\"\n",
    "    n = len(d)\n",
    "    A = [[0 for i in range(n)] for j in range(n)]\n",
    "    for i in d:\n",
    "        for j in d[i]:\n",
    "            A[i][j] = 1\n",
    "    return A"
   ]
  },
  {
   "cell_type": "code",
   "execution_count": 2,
   "outputs": [
    {
     "ename": "AttributeError",
     "evalue": "module 'graphs' has no attribute 'RandomGNM'",
     "output_type": "error",
     "traceback": [
      "\u001B[1;31m---------------------------------------------------------------------------\u001B[0m",
      "\u001B[1;31mAttributeError\u001B[0m                            Traceback (most recent call last)",
      "\u001B[1;32m<ipython-input-2-952a434c7989>\u001B[0m in \u001B[0;36m<module>\u001B[1;34m\u001B[0m\n\u001B[0;32m      2\u001B[0m \u001B[0mn\u001B[0m \u001B[1;33m=\u001B[0m \u001B[1;36m20\u001B[0m \u001B[1;31m#Number of Verticies\u001B[0m\u001B[1;33m\u001B[0m\u001B[1;33m\u001B[0m\u001B[0m\n\u001B[0;32m      3\u001B[0m \u001B[0mm\u001B[0m \u001B[1;33m=\u001B[0m \u001B[1;36m50\u001B[0m \u001B[1;31m#Number of Edges\u001B[0m\u001B[1;33m\u001B[0m\u001B[1;33m\u001B[0m\u001B[0m\n\u001B[1;32m----> 4\u001B[1;33m \u001B[0md\u001B[0m \u001B[1;33m=\u001B[0m \u001B[0mgraphs\u001B[0m\u001B[1;33m.\u001B[0m\u001B[0mRandomGNM\u001B[0m\u001B[1;33m(\u001B[0m\u001B[0mn\u001B[0m\u001B[1;33m,\u001B[0m \u001B[0mm\u001B[0m\u001B[1;33m)\u001B[0m\u001B[1;33m\u001B[0m\u001B[1;33m\u001B[0m\u001B[0m\n\u001B[0m\u001B[0;32m      5\u001B[0m \u001B[0mg\u001B[0m \u001B[1;33m=\u001B[0m \u001B[0mGraph\u001B[0m\u001B[1;33m(\u001B[0m\u001B[0md\u001B[0m\u001B[1;33m)\u001B[0m\u001B[1;33m\u001B[0m\u001B[1;33m\u001B[0m\u001B[0m\n\u001B[0;32m      6\u001B[0m \u001B[0mA\u001B[0m \u001B[1;33m=\u001B[0m \u001B[0madj_matrix\u001B[0m\u001B[1;33m(\u001B[0m\u001B[0md\u001B[0m\u001B[1;33m)\u001B[0m \u001B[1;31m#Gives the Adj Matrix of the graph\u001B[0m\u001B[1;33m\u001B[0m\u001B[1;33m\u001B[0m\u001B[0m\n",
      "\u001B[1;31mAttributeError\u001B[0m: module 'graphs' has no attribute 'RandomGNM'"
     ]
    }
   ],
   "source": [
    "#Randomly Generate Graphs!\n",
    "n = 20 #Number of Verticies\n",
    "m = 50 #Number of Edges\n",
    "d = graphs.RandomGNM(n, m)\n",
    "g = Graph(d)\n",
    "A = adj_matrix(d) #Gives the Adj Matrix of the graph\n",
    "g.layout(save_pos=True, test=True)\n",
    "show(g)\n",
    "print('Chromatic Number (via Built in Sage Function) =', g.chromatic_number())\n",
    "#print 'A =',A"
   ],
   "metadata": {
    "collapsed": false,
    "pycharm": {
     "name": "#%%\n"
    }
   }
  },
  {
   "cell_type": "code",
   "execution_count": null,
   "outputs": [],
   "source": [
    "#Randomly Generate Graphs!\n",
    "n = 30 #Number of Verticies\n",
    "m = 60 #Number of Edges\n",
    "d = graphs.RandomGNM(n, m)\n",
    "g = Graph(d)\n",
    "A = adj_matrix(d) #Gives the Adj Matrix of the graph\n",
    "g.layout(save_pos=True, test=True)\n",
    "show(g)\n",
    "print('Chromatic Number (via Built in Sage Function) =', g.chromatic_number())\n",
    "#print 'A =',A\n"
   ],
   "metadata": {
    "collapsed": false,
    "pycharm": {
     "name": "#%%\n"
    }
   }
  }
 ],
 "metadata": {
  "kernelspec": {
   "display_name": "Python 3",
   "language": "python",
   "name": "python3"
  },
  "language_info": {
   "codemirror_mode": {
    "name": "ipython",
    "version": 2
   },
   "file_extension": ".py",
   "mimetype": "text/x-python",
   "name": "python",
   "nbconvert_exporter": "python",
   "pygments_lexer": "ipython2",
   "version": "2.7.6"
  }
 },
 "nbformat": 4,
 "nbformat_minor": 0
}